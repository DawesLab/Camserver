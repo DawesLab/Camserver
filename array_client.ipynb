{
 "metadata": {
  "name": ""
 },
 "nbformat": 3,
 "nbformat_minor": 0,
 "worksheets": [
  {
   "cells": [
    {
     "cell_type": "code",
     "collapsed": false,
     "input": [
      "import zmq\n",
      "import numpy"
     ],
     "language": "python",
     "metadata": {},
     "outputs": [],
     "prompt_number": 1
    },
    {
     "cell_type": "code",
     "collapsed": false,
     "input": [
      "def recv_array(socket, flags=0, copy=False, track=False):\n",
      "    \"\"\"recv a numpy array\"\"\"\n",
      "    md = socket.recv_json(flags=flags)\n",
      "    msg = socket.recv(flags=flags, copy=copy, track=track)\n",
      "    buf = buffer(msg)\n",
      "    A = numpy.frombuffer(buf, dtype=md['dtype'])\n",
      "    return A.reshape(md['shape'])"
     ],
     "language": "python",
     "metadata": {},
     "outputs": [],
     "prompt_number": 2
    },
    {
     "cell_type": "code",
     "collapsed": false,
     "input": [
      "REQUEST_TIMEOUT = 2500\n",
      "SERVER_ENDPOINT = \"tcp://localhost:5555\"\n",
      "\n",
      "context = zmq.Context()\n",
      "\n",
      "#  Socket to talk to server\n",
      "print \"Connecting to array server...\"\n",
      "client = context.socket(zmq.REQ)\n",
      "client.connect(SERVER_ENDPOINT)\n",
      "\n",
      "poll = zmq.Poller()\n",
      "poll.register(client, zmq.POLLIN)"
     ],
     "language": "python",
     "metadata": {},
     "outputs": [
      {
       "output_type": "stream",
       "stream": "stdout",
       "text": [
        "Connecting to array server...\n"
       ]
      }
     ],
     "prompt_number": 3
    },
    {
     "cell_type": "code",
     "collapsed": false,
     "input": [
      "shots_requested = 1\n",
      "request = str(shots_requested)  # ask for one shot of data\n",
      "print \"I: Sending (%s)\" % request\n",
      "\n",
      "client.send(request)"
     ],
     "language": "python",
     "metadata": {},
     "outputs": [
      {
       "output_type": "stream",
       "stream": "stdout",
       "text": [
        "I: Sending (1)\n"
       ]
      }
     ],
     "prompt_number": 13
    },
    {
     "cell_type": "code",
     "collapsed": false,
     "input": [
      "socks = dict(poll.poll(REQUEST_TIMEOUT))\n",
      "if socks.get(client) == zmq.POLLIN:\n",
      "    data_array = recv_array(client)\n",
      "    #reply = client.recv()\n",
      "\n",
      "    if len(data_array) > 1:  # TODO test for the right size array\n",
      "        print \"I: Server replied OK (%s)\" % len(data_array)\n",
      "\n",
      "    else:\n",
      "        # print \"E: Malformed reply from server: %s\" % reply\n",
      "        print \"E: no reply from server\""
     ],
     "language": "python",
     "metadata": {},
     "outputs": [
      {
       "output_type": "stream",
       "stream": "stdout",
       "text": [
        "I: Server replied OK (1300)\n"
       ]
      }
     ],
     "prompt_number": 14
    },
    {
     "cell_type": "code",
     "collapsed": false,
     "input": [
      "%pylab inline"
     ],
     "language": "python",
     "metadata": {},
     "outputs": [
      {
       "output_type": "stream",
       "stream": "stdout",
       "text": [
        "Populating the interactive namespace from numpy and matplotlib\n"
       ]
      }
     ],
     "prompt_number": 15
    },
    {
     "cell_type": "code",
     "collapsed": false,
     "input": [
      "imshow(data_array)"
     ],
     "language": "python",
     "metadata": {},
     "outputs": [
      {
       "metadata": {},
       "output_type": "pyout",
       "prompt_number": 16,
       "text": [
        "<matplotlib.image.AxesImage at 0x3b9eb10>"
       ]
      },
      {
       "metadata": {},
       "output_type": "display_data",
       "png": "[encoded data removed]",
       "text": [
        "<matplotlib.figure.Figure at 0x2f04e10>"
       ]
      }
     ],
     "prompt_number": 16
    },
    {
     "cell_type": "markdown",
     "metadata": {},
     "source": [
      "Need to change axis dimensions."
     ]
    }
   ],
   "metadata": {}
  }
 ]
}